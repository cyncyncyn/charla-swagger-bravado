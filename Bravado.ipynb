{
 "cells": [
  {
   "cell_type": "markdown",
   "metadata": {},
   "source": [
    "# Empezando con Bravado"
   ]
  },
  {
   "cell_type": "markdown",
   "metadata": {},
   "source": [
    "## Creando nuestro cliente con Bravado a partir de nuestro archivo de spec"
   ]
  },
  {
   "cell_type": "code",
   "execution_count": 1,
   "metadata": {
    "collapsed": false
   },
   "outputs": [],
   "source": [
    "from bravado.client import SwaggerClient\n",
    "from bravado.swagger_model import load_file\n",
    "\n",
    "file_client = SwaggerClient.from_spec(load_file(\"swagger.yaml\"))"
   ]
  },
  {
   "cell_type": "markdown",
   "metadata": {},
   "source": [
    "## Trayendo a los personajes"
   ]
  },
  {
   "cell_type": "code",
   "execution_count": 2,
   "metadata": {
    "collapsed": false
   },
   "outputs": [
    {
     "name": "stdout",
     "output_type": "stream",
     "text": [
      "[Character(id=1, name=u'Test', photo_url=u'', species=u'Human'), Character(id=2, name=u'Test', photo_url=u'', species=u'Human'), Character(id=3, name=u'Test', photo_url=u'', species=u'Human'), Character(id=4, name=u'Test', photo_url=u'', species=u'Human'), Character(id=5, name=u'Test', photo_url=u'', species=u'Human'), Character(id=6, name=u'Test', photo_url=u'', species=u'Human'), Character(id=7, name=u'Test', photo_url=u'', species=u'Human'), Character(id=8, name=u'Test', photo_url=u'', species=u'Human'), Character(id=9, name=u'Test', photo_url=u'', species=u'Human'), Character(id=10, name=u'Test', photo_url=u'', species=u'Human'), Character(id=11, name=u'Test', photo_url=u'', species=u'Human'), Character(id=12, name=u'Test', photo_url=u'', species=u'Human'), Character(id=13, name=u'zqlsauvgry', photo_url=u'', species=u'Human'), Character(id=14, name=u'zqlsauvgry', photo_url=u'', species=u'Human'), Character(id=15, name=u'zqlsauvgry', photo_url=u'', species=u'Human'), Character(id=16, name=u'Test', photo_url=u'', species=u'Human'), Character(id=17, name=u'Test', photo_url=u'', species=u'Human'), Character(id=18, name=u'Test', photo_url=u'', species=u'Human'), Character(id=19, name=u'Test', photo_url=u'', species=u'Human'), Character(id=20, name=u'Test', photo_url=u'', species=u'Human'), Character(id=21, name=u'Test', photo_url=u'', species=u'Human'), Character(id=22, name=u'Test', photo_url=u'', species=u'Human'), Character(id=23, name=u'Test', photo_url=u'', species=u'Human'), Character(id=24, name=u'Test', photo_url=u'', species=u'Human')]\n"
     ]
    }
   ],
   "source": [
    "characters = file_client.characters.list().result()\n",
    "print characters"
   ]
  },
  {
   "cell_type": "markdown",
   "metadata": {
    "collapsed": false
   },
   "source": [
    "## Creando un personaje nuevo\n",
    "\n",
    "Para crear Swagger models as Python types (no need to deal with JSON).\n",
    "\n",
    "\n",
    "Here we will demonstrate how bravado hides all the JSON handling from the user, and makes the code more Pythonic.\n",
    "TODO search: puede usarse JSON si se prefiere también\n"
   ]
  },
  {
   "cell_type": "code",
   "execution_count": 3,
   "metadata": {
    "collapsed": false
   },
   "outputs": [],
   "source": [
    "\n",
    "Character = file_client.get_model('Character')\n",
    "\n",
    "\n",
    "new_character = Character(name='Test', species='Human')"
   ]
  },
  {
   "cell_type": "code",
   "execution_count": 4,
   "metadata": {
    "collapsed": false
   },
   "outputs": [
    {
     "name": "stdout",
     "output_type": "stream",
     "text": [
      "Character(id=25, name=u'Test', photo_url=u'', species=u'Human')\n"
     ]
    }
   ],
   "source": [
    "response = file_client.characters.create(character=new_character).result()\n",
    "print response"
   ]
  },
  {
   "cell_type": "code",
   "execution_count": 5,
   "metadata": {
    "collapsed": false
   },
   "outputs": [
    {
     "name": "stdout",
     "output_type": "stream",
     "text": [
      "Character(id=25, name=u'Test', photo_url=u'', species=u'Human')\n"
     ]
    }
   ],
   "source": [
    "print response\n"
   ]
  },
  {
   "cell_type": "code",
   "execution_count": 6,
   "metadata": {
    "collapsed": false
   },
   "outputs": [],
   "source": [
    "import random, string\n",
    "\n",
    "def randomword(length):\n",
    "   return ''.join(random.choice(string.lowercase) for i in range(length))\n",
    "\n"
   ]
  },
  {
   "cell_type": "code",
   "execution_count": 7,
   "metadata": {
    "collapsed": false
   },
   "outputs": [
    {
     "data": {
      "text/plain": [
       "SwaggerClient(http://localhost:8000/api)"
      ]
     },
     "execution_count": 7,
     "metadata": {},
     "output_type": "execute_result"
    }
   ],
   "source": [
    "file_client"
   ]
  }
 ],
 "metadata": {
  "kernelspec": {
   "display_name": "Python 2",
   "language": "python",
   "name": "python2"
  },
  "language_info": {
   "codemirror_mode": {
    "name": "ipython",
    "version": 2
   },
   "file_extension": ".py",
   "mimetype": "text/x-python",
   "name": "python",
   "nbconvert_exporter": "python",
   "pygments_lexer": "ipython2",
   "version": "2.7.10"
  }
 },
 "nbformat": 4,
 "nbformat_minor": 1
}
